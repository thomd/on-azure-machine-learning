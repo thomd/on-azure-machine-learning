{
 "cells": [
  {
   "cell_type": "markdown",
   "id": "eb5e334a-876a-44fa-9d57-6b7ad3436604",
   "metadata": {},
   "source": [
    "# Train Local Project using Azure Machine Learning Compute"
   ]
  },
  {
   "cell_type": "code",
   "execution_count": 1,
   "id": "45b7df0b-8387-48cc-8ead-65d119b18643",
   "metadata": {},
   "outputs": [
    {
     "name": "stdout",
     "output_type": "stream",
     "text": [
      "Python implementation: CPython\n",
      "Python version       : 3.9.7\n",
      "IPython version      : 7.28.0\n",
      "\n",
      "sklearn     : 1.0.1\n",
      "azureml.core: 1.35.0\n",
      "\n"
     ]
    }
   ],
   "source": [
    "%load_ext watermark\n",
    "%watermark -v -d -p sklearn,azureml.core"
   ]
  },
  {
   "cell_type": "code",
   "execution_count": 2,
   "id": "2c265229-99c8-4858-981e-a80e84346f18",
   "metadata": {},
   "outputs": [],
   "source": [
    "import azureml.core"
   ]
  },
  {
   "cell_type": "markdown",
   "id": "5a992614-ac7f-499f-8418-5d958d179a5e",
   "metadata": {},
   "source": [
    "## Initialize Workspace\n",
    "\n",
    "Create a ML workspace in **Azure ML Studio** and export `config.json`"
   ]
  },
  {
   "cell_type": "code",
   "execution_count": 4,
   "id": "7db48e8a-9cbe-4d8e-996b-d1530391a4ad",
   "metadata": {},
   "outputs": [
    {
     "name": "stdout",
     "output_type": "stream",
     "text": [
      "thomdml\n",
      "thomd\n",
      "eastus\n",
      "97b5c2bf-582f-4bb7-92e2-e69b517e9eee\n"
     ]
    }
   ],
   "source": [
    "from azureml.core import Workspace\n",
    "\n",
    "ws = Workspace.from_config()\n",
    "print(ws.name, ws.resource_group, ws.location, ws.subscription_id, sep = '\\n')"
   ]
  },
  {
   "cell_type": "markdown",
   "id": "64fe4717-d52b-47a3-bc92-dcd63c5927f0",
   "metadata": {},
   "source": [
    "## Create Experiment"
   ]
  },
  {
   "cell_type": "code",
   "execution_count": 29,
   "id": "d8e286d5-7299-4520-8afc-32cc2232da7b",
   "metadata": {},
   "outputs": [],
   "source": [
    "from azureml.core import Experiment\n",
    "\n",
    "experiment = Experiment(workspace = ws, name = 'train-on-aml-compute')"
   ]
  },
  {
   "cell_type": "markdown",
   "id": "a096ebc3-f2b1-4a2b-b5a6-83bb12bee562",
   "metadata": {},
   "source": [
    "Write the training script `train.py` to file"
   ]
  },
  {
   "cell_type": "code",
   "execution_count": 30,
   "id": "b06a6bf0-cc46-4ff2-bcc1-844d8ed910ea",
   "metadata": {},
   "outputs": [
    {
     "name": "stdout",
     "output_type": "stream",
     "text": [
      "Overwriting train.py\n"
     ]
    }
   ],
   "source": [
    "%%writefile train.py\n",
    "\n",
    "from sklearn.datasets import load_diabetes\n",
    "from sklearn.linear_model import Ridge\n",
    "from sklearn.metrics import mean_squared_error\n",
    "from sklearn.model_selection import train_test_split\n",
    "from azureml.core.run import Run\n",
    "import os\n",
    "import numpy as np\n",
    "import joblib\n",
    "\n",
    "os.makedirs('./outputs', exist_ok=True)\n",
    "\n",
    "X, y = load_diabetes(return_X_y=True)\n",
    "\n",
    "run = Run.get_context()\n",
    "\n",
    "X_train, X_test, y_train, y_test = train_test_split(X, y, test_size=0.2, random_state=0)\n",
    "\n",
    "for alpha in np.arange(0.0, 1.0, 0.05):\n",
    "    reg = Ridge(alpha=alpha)  # use Ridge algorithm to create a regression model\n",
    "    reg.fit(X_train, y_train)\n",
    "\n",
    "    preds = reg.predict(X_test)\n",
    "    mse = mean_squared_error(preds, y_test)\n",
    "    run.log('alpha', alpha)\n",
    "    run.log('mse', mse)\n",
    "\n",
    "    model_file_name = 'ridge_{0:.2f}.pkl'.format(alpha)\n",
    "    # save model in the outputs folder so it automatically get uploaded\n",
    "    with open(model_file_name, \"wb\") as file:\n",
    "        joblib.dump(value=reg, filename=os.path.join('./outputs/', model_file_name))\n",
    "\n",
    "    print('alpha is {0:.2f}, and mse is {1:0.2f}'.format(alpha, mse))"
   ]
  },
  {
   "cell_type": "markdown",
   "id": "40855355-423b-46a6-8570-2206878fa93d",
   "metadata": {},
   "source": [
    "## Create Azure ML Compute"
   ]
  },
  {
   "cell_type": "markdown",
   "id": "958fb713-a667-4580-9185-f8cf6f4bde33",
   "metadata": {},
   "source": [
    "### Provision as a Persistent Compute Target"
   ]
  },
  {
   "cell_type": "code",
   "execution_count": 31,
   "id": "1cce8abe-56fb-4312-a2e1-cb1b69891d68",
   "metadata": {},
   "outputs": [],
   "source": [
    "from azureml.core.compute import ComputeTarget, AmlCompute\n",
    "import pandas as pd\n",
    "\n",
    "vms = AmlCompute.supported_vmsizes(workspace = ws, location = ws.location)"
   ]
  },
  {
   "cell_type": "code",
   "execution_count": 32,
   "id": "d5255d5b-24e7-4c63-a46b-b079bb82c125",
   "metadata": {},
   "outputs": [
    {
     "data": {
      "text/html": [
       "<div>\n",
       "<style scoped>\n",
       "    .dataframe tbody tr th:only-of-type {\n",
       "        vertical-align: middle;\n",
       "    }\n",
       "\n",
       "    .dataframe tbody tr th {\n",
       "        vertical-align: top;\n",
       "    }\n",
       "\n",
       "    .dataframe thead th {\n",
       "        text-align: right;\n",
       "    }\n",
       "</style>\n",
       "<table border=\"1\" class=\"dataframe\">\n",
       "  <thead>\n",
       "    <tr style=\"text-align: right;\">\n",
       "      <th></th>\n",
       "      <th>name</th>\n",
       "      <th>vCPUs</th>\n",
       "      <th>gpus</th>\n",
       "      <th>memoryGB</th>\n",
       "      <th>maxResourceVolumeMB</th>\n",
       "    </tr>\n",
       "  </thead>\n",
       "  <tbody>\n",
       "    <tr>\n",
       "      <th>0</th>\n",
       "      <td>Standard_D1</td>\n",
       "      <td>1</td>\n",
       "      <td>0</td>\n",
       "      <td>3.5</td>\n",
       "      <td>51200</td>\n",
       "    </tr>\n",
       "    <tr>\n",
       "      <th>13</th>\n",
       "      <td>Standard_D1_v2</td>\n",
       "      <td>1</td>\n",
       "      <td>0</td>\n",
       "      <td>3.5</td>\n",
       "      <td>51200</td>\n",
       "    </tr>\n",
       "    <tr>\n",
       "      <th>41</th>\n",
       "      <td>Standard_DS1_v2</td>\n",
       "      <td>1</td>\n",
       "      <td>0</td>\n",
       "      <td>3.5</td>\n",
       "      <td>7168</td>\n",
       "    </tr>\n",
       "    <tr>\n",
       "      <th>66</th>\n",
       "      <td>Standard_F2s_v2</td>\n",
       "      <td>2</td>\n",
       "      <td>0</td>\n",
       "      <td>4.0</td>\n",
       "      <td>16384</td>\n",
       "    </tr>\n",
       "    <tr>\n",
       "      <th>17</th>\n",
       "      <td>Standard_D2_v2</td>\n",
       "      <td>2</td>\n",
       "      <td>0</td>\n",
       "      <td>7.0</td>\n",
       "      <td>102400</td>\n",
       "    </tr>\n",
       "    <tr>\n",
       "      <th>...</th>\n",
       "      <td>...</td>\n",
       "      <td>...</td>\n",
       "      <td>...</td>\n",
       "      <td>...</td>\n",
       "      <td>...</td>\n",
       "    </tr>\n",
       "    <tr>\n",
       "      <th>104</th>\n",
       "      <td>Standard_M64m</td>\n",
       "      <td>64</td>\n",
       "      <td>0</td>\n",
       "      <td>1750.0</td>\n",
       "      <td>8192000</td>\n",
       "    </tr>\n",
       "    <tr>\n",
       "      <th>94</th>\n",
       "      <td>Standard_M128</td>\n",
       "      <td>128</td>\n",
       "      <td>0</td>\n",
       "      <td>2000.0</td>\n",
       "      <td>16384000</td>\n",
       "    </tr>\n",
       "    <tr>\n",
       "      <th>97</th>\n",
       "      <td>Standard_M128s</td>\n",
       "      <td>128</td>\n",
       "      <td>0</td>\n",
       "      <td>2000.0</td>\n",
       "      <td>4096000</td>\n",
       "    </tr>\n",
       "    <tr>\n",
       "      <th>95</th>\n",
       "      <td>Standard_M128m</td>\n",
       "      <td>128</td>\n",
       "      <td>0</td>\n",
       "      <td>3800.0</td>\n",
       "      <td>16384000</td>\n",
       "    </tr>\n",
       "    <tr>\n",
       "      <th>96</th>\n",
       "      <td>Standard_M128ms</td>\n",
       "      <td>128</td>\n",
       "      <td>0</td>\n",
       "      <td>3800.0</td>\n",
       "      <td>4096000</td>\n",
       "    </tr>\n",
       "  </tbody>\n",
       "</table>\n",
       "<p>136 rows × 5 columns</p>\n",
       "</div>"
      ],
      "text/plain": [
       "                name  vCPUs  gpus  memoryGB  maxResourceVolumeMB\n",
       "0        Standard_D1      1     0       3.5                51200\n",
       "13    Standard_D1_v2      1     0       3.5                51200\n",
       "41   Standard_DS1_v2      1     0       3.5                 7168\n",
       "66   Standard_F2s_v2      2     0       4.0                16384\n",
       "17    Standard_D2_v2      2     0       7.0               102400\n",
       "..               ...    ...   ...       ...                  ...\n",
       "104    Standard_M64m     64     0    1750.0              8192000\n",
       "94     Standard_M128    128     0    2000.0             16384000\n",
       "97    Standard_M128s    128     0    2000.0              4096000\n",
       "95    Standard_M128m    128     0    3800.0             16384000\n",
       "96   Standard_M128ms    128     0    3800.0              4096000\n",
       "\n",
       "[136 rows x 5 columns]"
      ]
     },
     "execution_count": 32,
     "metadata": {},
     "output_type": "execute_result"
    }
   ],
   "source": [
    "pd.DataFrame(vms).sort_values(by=['memoryGB'], inplace=False)"
   ]
  },
  {
   "cell_type": "code",
   "execution_count": 33,
   "id": "eef2a487-7df3-48d0-af1f-63eccca76b00",
   "metadata": {},
   "outputs": [
    {
     "name": "stdout",
     "output_type": "stream",
     "text": [
      "Found existing cluster, use it.\n",
      "Succeeded\n",
      "AmlCompute wait for completion finished\n",
      "\n",
      "Minimum number of nodes requested have been provisioned\n"
     ]
    }
   ],
   "source": [
    "from azureml.core.compute import ComputeTarget, AmlCompute\n",
    "from azureml.core.compute_target import ComputeTargetException\n",
    "\n",
    "# Choose a name for your CPU cluster\n",
    "cpu_cluster_name = 'cpu-cluster'\n",
    "\n",
    "# Verify that cluster does not exist already\n",
    "try:\n",
    "    cpu_cluster = ComputeTarget(workspace=ws, name=cpu_cluster_name)\n",
    "    print('Found existing cluster, use it.')\n",
    "except ComputeTargetException:\n",
    "    compute_config = AmlCompute.provisioning_configuration(vm_size='STANDARD_D2_V2', max_nodes=4)\n",
    "    cpu_cluster = ComputeTarget.create(ws, cpu_cluster_name, compute_config)\n",
    "\n",
    "cpu_cluster.wait_for_completion(show_output=True)"
   ]
  },
  {
   "cell_type": "markdown",
   "id": "df315936-19b8-4b1f-b8f1-7edda411083f",
   "metadata": {},
   "source": [
    "Get the latest **status** of the AML Compute target:"
   ]
  },
  {
   "cell_type": "code",
   "execution_count": 41,
   "id": "2dbee0d8-1b00-469c-943d-4b89f5f5ca03",
   "metadata": {},
   "outputs": [
    {
     "data": {
      "text/plain": [
       "{'currentNodeCount': 1,\n",
       " 'targetNodeCount': 1,\n",
       " 'nodeStateCounts': {'preparingNodeCount': 0,\n",
       "  'runningNodeCount': 0,\n",
       "  'idleNodeCount': 1,\n",
       "  'unusableNodeCount': 0,\n",
       "  'leavingNodeCount': 0,\n",
       "  'preemptedNodeCount': 0},\n",
       " 'allocationState': 'Steady',\n",
       " 'allocationStateTransitionTime': '2021-11-07T18:46:33.161000+00:00',\n",
       " 'errors': None,\n",
       " 'creationTime': '2021-11-07T16:04:51.049048+00:00',\n",
       " 'modifiedTime': '2021-11-07T16:05:07.062488+00:00',\n",
       " 'provisioningState': 'Succeeded',\n",
       " 'provisioningStateTransitionTime': None,\n",
       " 'scaleSettings': {'minNodeCount': 0,\n",
       "  'maxNodeCount': 4,\n",
       "  'nodeIdleTimeBeforeScaleDown': 'PT1800S'},\n",
       " 'vmPriority': 'Dedicated',\n",
       " 'vmSize': 'STANDARD_D2_V2'}"
      ]
     },
     "execution_count": 41,
     "metadata": {},
     "output_type": "execute_result"
    }
   ],
   "source": [
    "cpu_cluster.get_status().serialize()"
   ]
  },
  {
   "cell_type": "markdown",
   "id": "5e782705-5494-4dc4-b2d6-b6cb23f6f856",
   "metadata": {},
   "source": [
    "Get the list of **nodes** on the cluster with status, **IP** and associated run:"
   ]
  },
  {
   "cell_type": "code",
   "execution_count": 42,
   "id": "2632b470-88f6-4595-9ca7-d8b8626bfc42",
   "metadata": {},
   "outputs": [
    {
     "data": {
      "text/plain": [
       "[{'nodeId': 'tvmps_0a5f5ff945d5447a1f9bd069e3b31b1ea3d5c2124068bc0b4172aa97cbbb2485_d',\n",
       "  'port': 50001,\n",
       "  'publicIpAddress': '20.81.48.123',\n",
       "  'privateIpAddress': '10.0.0.5',\n",
       "  'nodeState': 'idle'}]"
      ]
     },
     "execution_count": 42,
     "metadata": {},
     "output_type": "execute_result"
    }
   ],
   "source": [
    "cpu_cluster.list_nodes()"
   ]
  },
  {
   "cell_type": "code",
   "execution_count": 43,
   "id": "8f73f296-8333-4943-935c-3f773fd0383b",
   "metadata": {},
   "outputs": [],
   "source": [
    "# cpu_cluster.delete()"
   ]
  },
  {
   "cell_type": "markdown",
   "id": "bfbe0d3b-9bf3-459e-ae9d-6afe61227b82",
   "metadata": {},
   "source": [
    "## Create Environment"
   ]
  },
  {
   "cell_type": "code",
   "execution_count": 34,
   "id": "d423e0dc-53fe-48ef-af55-291c567fe2bd",
   "metadata": {},
   "outputs": [],
   "source": [
    "from azureml.core import Environment\n",
    "from azureml.core.runconfig import DockerConfiguration\n",
    "from azureml.core.conda_dependencies import CondaDependencies\n",
    "from azureml.core import ScriptRunConfig\n",
    "\n",
    "myenv = Environment('myenv')\n",
    "myenv.python.conda_dependencies = CondaDependencies.create(conda_packages=['scikit-learn', 'packaging'])\n",
    "\n",
    "# Enable Docker\n",
    "docker_config = DockerConfiguration(use_docker=True)\n",
    "\n",
    "src = ScriptRunConfig(source_directory='./', script='train.py', compute_target=cpu_cluster, environment=myenv, docker_runtime_config=docker_config)\n",
    "run = experiment.submit(config=src)"
   ]
  },
  {
   "cell_type": "code",
   "execution_count": 35,
   "id": "bdb7fc4a-b41e-4420-a845-1488e8b2c395",
   "metadata": {},
   "outputs": [
    {
     "data": {
      "text/html": [
       "<table style=\"width:100%\"><tr><th>Experiment</th><th>Id</th><th>Type</th><th>Status</th><th>Details Page</th><th>Docs Page</th></tr><tr><td>train-on-aml-compute</td><td>train-on-aml-compute_1636312326_45565c02</td><td>azureml.scriptrun</td><td>Preparing</td><td><a href=\"https://ml.azure.com/runs/train-on-aml-compute_1636312326_45565c02?wsid=/subscriptions/97b5c2bf-582f-4bb7-92e2-e69b517e9eee/resourcegroups/thomd/workspaces/thomdml&amp;tid=ea174250-a629-46ba-9b7c-dce1db69caca\" target=\"_blank\" rel=\"noopener\">Link to Azure Machine Learning studio</a></td><td><a href=\"https://docs.microsoft.com/en-us/python/api/azureml-core/azureml.core.script_run.ScriptRun?view=azure-ml-py\" target=\"_blank\" rel=\"noopener\">Link to Documentation</a></td></tr></table>"
      ],
      "text/plain": [
       "Run(Experiment: train-on-aml-compute,\n",
       "Id: train-on-aml-compute_1636312326_45565c02,\n",
       "Type: azureml.scriptrun,\n",
       "Status: Preparing)"
      ]
     },
     "execution_count": 35,
     "metadata": {},
     "output_type": "execute_result"
    }
   ],
   "source": [
    "run"
   ]
  },
  {
   "cell_type": "code",
   "execution_count": 36,
   "id": "206ab8b2-3598-4f25-a56e-5b88af31c561",
   "metadata": {},
   "outputs": [
    {
     "data": {
      "text/plain": [
       "'Queued'"
      ]
     },
     "execution_count": 36,
     "metadata": {},
     "output_type": "execute_result"
    }
   ],
   "source": [
    "run.get_status()"
   ]
  }
 ],
 "metadata": {
  "kernelspec": {
   "display_name": "Python 3 (ipykernel)",
   "language": "python",
   "name": "python3"
  },
  "language_info": {
   "codemirror_mode": {
    "name": "ipython",
    "version": 3
   },
   "file_extension": ".py",
   "mimetype": "text/x-python",
   "name": "python",
   "nbconvert_exporter": "python",
   "pygments_lexer": "ipython3",
   "version": "3.9.7"
  }
 },
 "nbformat": 4,
 "nbformat_minor": 5
}
