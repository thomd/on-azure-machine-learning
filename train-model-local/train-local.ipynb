{
 "cells": [
  {
   "cell_type": "code",
   "execution_count": 7,
   "id": "17c7d07c-8dd4-4be0-b9ea-8503e052443a",
   "metadata": {},
   "outputs": [
    {
     "name": "stdout",
     "output_type": "stream",
     "text": [
      "Python 3.9.7\n"
     ]
    }
   ],
   "source": [
    "!python -V"
   ]
  },
  {
   "cell_type": "code",
   "execution_count": 6,
   "id": "00750fed-ea29-44e2-b61f-69e3c94625ee",
   "metadata": {},
   "outputs": [
    {
     "name": "stdout",
     "output_type": "stream",
     "text": [
      "1.35.0\n"
     ]
    }
   ],
   "source": [
    "import azureml.core\n",
    "print(azureml.core.VERSION)"
   ]
  },
  {
   "cell_type": "markdown",
   "id": "b4a28756-1f98-41ea-87a2-fb8de6f6d305",
   "metadata": {},
   "source": [
    "### Initialize Workspace\n",
    "\n",
    "Create a ML workspace in **Azure ML Studio** and export `config.json`"
   ]
  },
  {
   "cell_type": "code",
   "execution_count": 9,
   "id": "6649eb07-9a16-464e-93ef-3db1d5b115f2",
   "metadata": {},
   "outputs": [
    {
     "name": "stdout",
     "output_type": "stream",
     "text": [
      "mlws\n",
      "thomd\n",
      "westeurope\n"
     ]
    }
   ],
   "source": [
    "from azureml.core.workspace import Workspace\n",
    "import json\n",
    "\n",
    "with open('config.json', 'r') as f:\n",
    "    config = json.load(f)\n",
    "    \n",
    "ws = Workspace(workspace_name=config['workspace_name'], subscription_id=config['subscription_id'], resource_group=config['resource_group'])\n",
    "ws.write_config()\n",
    "\n",
    "print(ws.name, ws.resource_group, ws.location, sep='\\n')"
   ]
  },
  {
   "cell_type": "markdown",
   "id": "ec3096f4-8f46-448d-829c-587b54ab2280",
   "metadata": {},
   "source": [
    "### Experiment"
   ]
  },
  {
   "cell_type": "code",
   "execution_count": 10,
   "id": "981d9e1e-abaf-471a-af49-e6ce7d58461e",
   "metadata": {},
   "outputs": [],
   "source": [
    "from azureml.core import Experiment\n",
    "\n",
    "exp = Experiment(workspace=ws, name='train-on-local')"
   ]
  },
  {
   "cell_type": "markdown",
   "id": "e699cdf2-0182-404e-a1b7-d476b7bb1c44",
   "metadata": {},
   "source": [
    "#### Training Script\n",
    "\n",
    "Write the `train.py` to file"
   ]
  },
  {
   "cell_type": "code",
   "execution_count": 12,
   "id": "0bf7ed17-9dfa-411e-9e62-d2d08e08a177",
   "metadata": {},
   "outputs": [
    {
     "name": "stdout",
     "output_type": "stream",
     "text": [
      "Writing train.py\n"
     ]
    }
   ],
   "source": [
    "%%writefile train.py\n",
    "from sklearn.datasets import load_diabetes\n",
    "from sklearn.linear_model import Ridge\n",
    "from sklearn.metrics import mean_squared_error\n",
    "from sklearn.model_selection import train_test_split\n",
    "from azureml.core.run import Run\n",
    "import os\n",
    "import numpy as np\n",
    "import joblib\n",
    "\n",
    "os.makedirs('./outputs', exist_ok=True)   # to save model in the outputs folder so it automatically get uploaded\n",
    "\n",
    "X, y = load_diabetes(return_X_y=True)\n",
    "\n",
    "run = Run.get_context()\n",
    "\n",
    "X_train, X_test, y_train, y_test = train_test_split(X, y, test_size=0.2, random_state=0)\n",
    "data = {\"train\": {\"X\": X_train, \"y\": y_train},\n",
    "        \"test\": {\"X\": X_test, \"y\": y_test}}\n",
    "\n",
    "for alpha in np.arange(0.0, 1.0, 0.05):\n",
    "    reg = Ridge(alpha=alpha)\n",
    "    reg.fit(data[\"train\"][\"X\"], data[\"train\"][\"y\"])\n",
    "    preds = reg.predict(data[\"test\"][\"X\"])\n",
    "    mse = mean_squared_error(preds, data[\"test\"][\"y\"])\n",
    "    run.log('alpha', alpha)\n",
    "    run.log('mse', mse)\n",
    "    model_file_name = 'ridge_{0:.2f}.pkl'.format(alpha)\n",
    "    with open(model_file_name, \"wb\") as file:\n",
    "        joblib.dump(value=reg, filename=os.path.join('./outputs/', model_file_name))\n",
    "\n",
    "    print('alpha is {0:.2f}, and mse is {1:0.2f}'.format(alpha, mse))\n"
   ]
  },
  {
   "cell_type": "markdown",
   "id": "78f08197-8c0f-4d0b-a400-c07cb6696ea0",
   "metadata": {},
   "source": [
    "### Run Experiment on Azure ML\n",
    "\n",
    "#### User-Managed Environment\n",
    "\n",
    "When using a **user-managed environment**, you are responsible for ensuring that all the necessary packages are available in the Python environment you choose to run the script in."
   ]
  },
  {
   "cell_type": "code",
   "execution_count": 13,
   "id": "c9b896dd-6fed-4e3b-a28b-abf9d7891bee",
   "metadata": {},
   "outputs": [],
   "source": [
    "from azureml.core import Environment\n",
    "from azureml.core import ScriptRunConfig\n",
    "\n",
    "user_managed_env = Environment('user-managed-env')\n",
    "user_managed_env.python.user_managed_dependencies = True\n",
    "\n",
    "# You can choose a specific Python environment by pointing to a Python path \n",
    "#user_managed_env.python.interpreter_path = '/Users/duerr/.virtualenvs/jupyter/bin/python'\n",
    "\n",
    "src = ScriptRunConfig(source_directory='./', script='train.py', environment=user_managed_env)\n",
    "run = exp.submit(src)"
   ]
  },
  {
   "cell_type": "markdown",
   "id": "bdf0399a-9b7c-44f2-b8e9-6850ae92ddc2",
   "metadata": {},
   "source": [
    "Get run history details"
   ]
  },
  {
   "cell_type": "code",
   "execution_count": 17,
   "id": "e69ad016-b7a4-4c46-aa22-fe9774ee5762",
   "metadata": {},
   "outputs": [
    {
     "data": {
      "text/html": [
       "<table style=\"width:100%\"><tr><th>Experiment</th><th>Id</th><th>Type</th><th>Status</th><th>Details Page</th><th>Docs Page</th></tr><tr><td>train-on-local</td><td>train-on-local_1635340690_a1724354</td><td>azureml.scriptrun</td><td>Completed</td><td><a href=\"https://ml.azure.com/runs/train-on-local_1635340690_a1724354?wsid=/subscriptions/97b5c2bf-582f-4bb7-92e2-e69b517e9eee/resourcegroups/thomd/workspaces/mlws&amp;tid=ea174250-a629-46ba-9b7c-dce1db69caca\" target=\"_blank\" rel=\"noopener\">Link to Azure Machine Learning studio</a></td><td><a href=\"https://docs.microsoft.com/en-us/python/api/azureml-core/azureml.core.script_run.ScriptRun?view=azure-ml-py\" target=\"_blank\" rel=\"noopener\">Link to Documentation</a></td></tr></table>"
      ],
      "text/plain": [
       "Run(Experiment: train-on-local,\n",
       "Id: train-on-local_1635340690_a1724354,\n",
       "Type: azureml.scriptrun,\n",
       "Status: Completed)"
      ]
     },
     "execution_count": 17,
     "metadata": {},
     "output_type": "execute_result"
    }
   ],
   "source": [
    "# run.wait_for_completion(show_output=True)\n",
    "run"
   ]
  },
  {
   "cell_type": "markdown",
   "id": "afe820c4-0576-46c1-b787-a55fafe612c8",
   "metadata": {},
   "source": [
    "#### System-Managed Environment\n",
    "\n",
    "Instead of managing the setup of the environment yourself, you can **ask the system to build a new local conda environment**. The environment is built once, and will be reused in subsequent executions as long as the conda dependencies remain unchanged."
   ]
  },
  {
   "cell_type": "code",
   "execution_count": 26,
   "id": "1729276b-7a4c-4b4c-b324-4ded04b2e534",
   "metadata": {},
   "outputs": [],
   "source": [
    "from azureml.core.conda_dependencies import CondaDependencies\n",
    "\n",
    "system_managed_env = Environment('system-managed-env')\n",
    "system_managed_env.python.user_managed_dependencies = False\n",
    "\n",
    "# Specify conda dependencies with scikit-learn\n",
    "cd = CondaDependencies.create(conda_packages=['scikit-learn'])\n",
    "system_managed_env.python.conda_dependencies = cd\n",
    "\n",
    "# A new conda environment is built. If you are running this for the first time, this might take up to 5 minutes\n",
    "#src.run_config.environment = system_managed_env\n",
    "src = ScriptRunConfig(source_directory='./', script='train.py', environment=system_managed_env)\n",
    "\n",
    "run = exp.submit(src)"
   ]
  },
  {
   "cell_type": "code",
   "execution_count": 1,
   "id": "23d1ad14-2e84-4379-94f8-9e6db939f9b2",
   "metadata": {},
   "outputs": [],
   "source": [
    "#run.wait_for_completion(show_output=True)"
   ]
  },
  {
   "cell_type": "markdown",
   "id": "7c2ac128-e805-4fb8-b8a7-29eddc620cb5",
   "metadata": {},
   "source": [
    "#### Docker-based Execution\n",
    "\n",
    "Train the models in a **Docker container on your local machine**. For this, you then need to have the Docker engine installed locally.\n",
    "\n",
    "If your kernel is already running in a Docker container, such as Azure Notebooks, this mode will **NOT** work."
   ]
  },
  {
   "cell_type": "code",
   "execution_count": 28,
   "id": "cb12790d-06b4-47fb-9de5-d98a5b7f21ff",
   "metadata": {},
   "outputs": [
    {
     "name": "stderr",
     "output_type": "stream",
     "text": [
      "'enabled' is deprecated. Please use the azureml.core.runconfig.DockerConfiguration object with the 'use_docker' param instead.\n"
     ]
    },
    {
     "name": "stdout",
     "output_type": "stream",
     "text": [
      "mcr.microsoft.com/azureml/openmpi3.1.2-ubuntu18.04:20210922.v1\n"
     ]
    }
   ],
   "source": [
    "docker_env = Environment('docker-env')\n",
    "\n",
    "docker_env.python.user_managed_dependencies = False\n",
    "docker_env.docker.enabled = True\n",
    "\n",
    "# use the default CPU-based Docker image from Azure ML\n",
    "print(docker_env.docker.base_image)\n",
    "\n",
    "# Specify conda dependencies with scikit-learn\n",
    "cd = CondaDependencies.create(conda_packages=['scikit-learn'])\n",
    "docker_env.python.conda_dependencies = cd"
   ]
  },
  {
   "cell_type": "code",
   "execution_count": 31,
   "id": "b4f2121d-42e6-4f2f-8354-efb1e833ca88",
   "metadata": {},
   "outputs": [
    {
     "name": "stdout",
     "output_type": "stream",
     "text": [
      "Docker version 20.10.8, build 3967b7d\n",
      "running ...\n"
     ]
    }
   ],
   "source": [
    "import subprocess\n",
    "\n",
    "src.run_config.environment = docker_env\n",
    "\n",
    "# Check if Docker is installed and Linux containers are enabled\n",
    "if subprocess.run(\"docker -v\", shell=True).returncode == 0:\n",
    "    out = subprocess.check_output(\"docker system info\", shell=True).decode('ascii')\n",
    "    if not \"OSType: linux\" in out:\n",
    "        print(\"Switch Docker engine to use Linux containers.\")\n",
    "    else:\n",
    "        run = exp.submit(src)\n",
    "else:\n",
    "    print(\"Docker engine is not installed.\")"
   ]
  },
  {
   "cell_type": "code",
   "execution_count": 30,
   "id": "e2b67be9-4246-45ec-97eb-ee9532bec4ea",
   "metadata": {},
   "outputs": [
    {
     "data": {
      "text/html": [
       "<table style=\"width:100%\"><tr><th>Experiment</th><th>Id</th><th>Type</th><th>Status</th><th>Details Page</th><th>Docs Page</th></tr><tr><td>train-on-local</td><td>train-on-local_1635343117_aa73c104</td><td>azureml.scriptrun</td><td>Starting</td><td><a href=\"https://ml.azure.com/runs/train-on-local_1635343117_aa73c104?wsid=/subscriptions/97b5c2bf-582f-4bb7-92e2-e69b517e9eee/resourcegroups/thomd/workspaces/mlws&amp;tid=ea174250-a629-46ba-9b7c-dce1db69caca\" target=\"_blank\" rel=\"noopener\">Link to Azure Machine Learning studio</a></td><td><a href=\"https://docs.microsoft.com/en-us/python/api/azureml-core/azureml.core.script_run.ScriptRun?view=azure-ml-py\" target=\"_blank\" rel=\"noopener\">Link to Documentation</a></td></tr></table>"
      ],
      "text/plain": [
       "Run(Experiment: train-on-local,\n",
       "Id: train-on-local_1635343117_aa73c104,\n",
       "Type: azureml.scriptrun,\n",
       "Status: Starting)"
      ]
     },
     "execution_count": 30,
     "metadata": {},
     "output_type": "execute_result"
    }
   ],
   "source": [
    "run"
   ]
  },
  {
   "cell_type": "code",
   "execution_count": 2,
   "id": "71596f8c-3598-41f6-a057-e520bbe9ac10",
   "metadata": {},
   "outputs": [],
   "source": [
    "#run.wait_for_completion(show_output=True)"
   ]
  },
  {
   "cell_type": "code",
   "execution_count": null,
   "id": "8c2dd565-37b7-45b7-8118-a5eeb3552424",
   "metadata": {},
   "outputs": [],
   "source": []
  }
 ],
 "metadata": {
  "kernelspec": {
   "display_name": "Python 3 (ipykernel)",
   "language": "python",
   "name": "python3"
  },
  "language_info": {
   "codemirror_mode": {
    "name": "ipython",
    "version": 3
   },
   "file_extension": ".py",
   "mimetype": "text/x-python",
   "name": "python",
   "nbconvert_exporter": "python",
   "pygments_lexer": "ipython3",
   "version": "3.9.7"
  }
 },
 "nbformat": 4,
 "nbformat_minor": 5
}
