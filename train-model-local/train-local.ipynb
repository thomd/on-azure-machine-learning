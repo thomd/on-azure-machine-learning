{
 "cells": [
  {
   "cell_type": "code",
   "execution_count": 1,
   "id": "00750fed-ea29-44e2-b61f-69e3c94625ee",
   "metadata": {},
   "outputs": [],
   "source": [
    "import azureml.core"
   ]
  },
  {
   "cell_type": "markdown",
   "id": "b4a28756-1f98-41ea-87a2-fb8de6f6d305",
   "metadata": {},
   "source": [
    "### Initialize Workspace\n",
    "\n",
    "Create a ML workspace in **Azure ML Studio** and export `config.json`"
   ]
  },
  {
   "cell_type": "code",
   "execution_count": 9,
   "id": "6649eb07-9a16-464e-93ef-3db1d5b115f2",
   "metadata": {},
   "outputs": [
    {
     "name": "stdout",
     "output_type": "stream",
     "text": [
      "mlws\n",
      "thomd\n",
      "westeurope\n"
     ]
    }
   ],
   "source": [
    "from azureml.core.workspace import Workspace\n",
    "import json\n",
    "\n",
    "with open('config.json', 'r') as f:\n",
    "    config = json.load(f)\n",
    "    \n",
    "ws = Workspace(workspace_name=config['workspace_name'], subscription_id=config['subscription_id'], resource_group=config['resource_group'])\n",
    "ws.write_config()\n",
    "\n",
    "print(ws.name, ws.resource_group, ws.location, sep='\\n')"
   ]
  },
  {
   "cell_type": "markdown",
   "id": "ec3096f4-8f46-448d-829c-587b54ab2280",
   "metadata": {},
   "source": [
    "### Experiment"
   ]
  },
  {
   "cell_type": "code",
   "execution_count": 10,
   "id": "981d9e1e-abaf-471a-af49-e6ce7d58461e",
   "metadata": {},
   "outputs": [],
   "source": [
    "from azureml.core import Experiment\n",
    "\n",
    "exp = Experiment(workspace=ws, name='train-on-local')"
   ]
  },
  {
   "cell_type": "markdown",
   "id": "e699cdf2-0182-404e-a1b7-d476b7bb1c44",
   "metadata": {},
   "source": [
    "### Training Script\n",
    "\n",
    "Write the `train.py`"
   ]
  },
  {
   "cell_type": "code",
   "execution_count": 12,
   "id": "0bf7ed17-9dfa-411e-9e62-d2d08e08a177",
   "metadata": {},
   "outputs": [
    {
     "name": "stdout",
     "output_type": "stream",
     "text": [
      "Writing train.py\n"
     ]
    }
   ],
   "source": [
    "%%writefile train.py\n",
    "from sklearn.datasets import load_diabetes\n",
    "from sklearn.linear_model import Ridge\n",
    "from sklearn.metrics import mean_squared_error\n",
    "from sklearn.model_selection import train_test_split\n",
    "from azureml.core.run import Run\n",
    "import os\n",
    "import numpy as np\n",
    "import joblib\n",
    "\n",
    "os.makedirs('./outputs', exist_ok=True)   # to save model in the outputs folder so it automatically get uploaded\n",
    "\n",
    "X, y = load_diabetes(return_X_y=True)\n",
    "\n",
    "run = Run.get_context()\n",
    "\n",
    "X_train, X_test, y_train, y_test = train_test_split(X, y, test_size=0.2, random_state=0)\n",
    "data = {\"train\": {\"X\": X_train, \"y\": y_train},\n",
    "        \"test\": {\"X\": X_test, \"y\": y_test}}\n",
    "\n",
    "for alpha in np.arange(0.0, 1.0, 0.05):\n",
    "    reg = Ridge(alpha=alpha)\n",
    "    reg.fit(data[\"train\"][\"X\"], data[\"train\"][\"y\"])\n",
    "    preds = reg.predict(data[\"test\"][\"X\"])\n",
    "    mse = mean_squared_error(preds, data[\"test\"][\"y\"])\n",
    "    run.log('alpha', alpha)\n",
    "    run.log('mse', mse)\n",
    "    model_file_name = 'ridge_{0:.2f}.pkl'.format(alpha)\n",
    "    with open(model_file_name, \"wb\") as file:\n",
    "        joblib.dump(value=reg, filename=os.path.join('./outputs/', model_file_name))\n",
    "\n",
    "    print('alpha is {0:.2f}, and mse is {1:0.2f}'.format(alpha, mse))\n"
   ]
  },
  {
   "cell_type": "markdown",
   "id": "78f08197-8c0f-4d0b-a400-c07cb6696ea0",
   "metadata": {},
   "source": [
    "### Run Experiment on Azure ML\n",
    "\n",
    "#### User-Managed Environment\n",
    "\n",
    "When using a **user-managed environment**, you are responsible for ensuring that all the necessary packages are available in the Python environment you choose to run the script in."
   ]
  },
  {
   "cell_type": "code",
   "execution_count": 13,
   "id": "c9b896dd-6fed-4e3b-a28b-abf9d7891bee",
   "metadata": {},
   "outputs": [],
   "source": [
    "from azureml.core import Environment\n",
    "from azureml.core import ScriptRunConfig\n",
    "\n",
    "user_managed_env = Environment('user-managed-env')\n",
    "user_managed_env.python.user_managed_dependencies = True\n",
    "\n",
    "# You can choose a specific Python environment by pointing to a Python path \n",
    "#user_managed_env.python.interpreter_path = '/Users/duerr/.virtualenvs/jupyter/bin/python'\n",
    "\n",
    "src = ScriptRunConfig(source_directory='./', script='train.py', environment=user_managed_env)\n",
    "run = exp.submit(src)"
   ]
  },
  {
   "cell_type": "markdown",
   "id": "bdf0399a-9b7c-44f2-b8e9-6850ae92ddc2",
   "metadata": {},
   "source": [
    "Get run history details"
   ]
  },
  {
   "cell_type": "code",
   "execution_count": 17,
   "id": "e69ad016-b7a4-4c46-aa22-fe9774ee5762",
   "metadata": {},
   "outputs": [
    {
     "data": {
      "text/html": [
       "<table style=\"width:100%\"><tr><th>Experiment</th><th>Id</th><th>Type</th><th>Status</th><th>Details Page</th><th>Docs Page</th></tr><tr><td>train-on-local</td><td>train-on-local_1635340690_a1724354</td><td>azureml.scriptrun</td><td>Completed</td><td><a href=\"https://ml.azure.com/runs/train-on-local_1635340690_a1724354?wsid=/subscriptions/97b5c2bf-582f-4bb7-92e2-e69b517e9eee/resourcegroups/thomd/workspaces/mlws&amp;tid=ea174250-a629-46ba-9b7c-dce1db69caca\" target=\"_blank\" rel=\"noopener\">Link to Azure Machine Learning studio</a></td><td><a href=\"https://docs.microsoft.com/en-us/python/api/azureml-core/azureml.core.script_run.ScriptRun?view=azure-ml-py\" target=\"_blank\" rel=\"noopener\">Link to Documentation</a></td></tr></table>"
      ],
      "text/plain": [
       "Run(Experiment: train-on-local,\n",
       "Id: train-on-local_1635340690_a1724354,\n",
       "Type: azureml.scriptrun,\n",
       "Status: Completed)"
      ]
     },
     "execution_count": 17,
     "metadata": {},
     "output_type": "execute_result"
    }
   ],
   "source": [
    "# run.wait_for_completion(show_output=True)\n",
    "run"
   ]
  },
  {
   "cell_type": "markdown",
   "id": "afe820c4-0576-46c1-b787-a55fafe612c8",
   "metadata": {},
   "source": [
    "#### System-Managed Environment\n",
    "\n",
    "Instead of managing the setup of the environment yourself, you can **ask the system to build a new local conda environment**. The environment is built once, and will be reused in subsequent executions as long as the conda dependencies remain unchanged."
   ]
  },
  {
   "cell_type": "code",
   "execution_count": 26,
   "id": "1729276b-7a4c-4b4c-b324-4ded04b2e534",
   "metadata": {},
   "outputs": [],
   "source": [
    "from azureml.core.conda_dependencies import CondaDependencies\n",
    "\n",
    "system_managed_env = Environment('system-managed-env')\n",
    "system_managed_env.python.user_managed_dependencies = False\n",
    "\n",
    "# Specify conda dependencies with scikit-learn\n",
    "cd = CondaDependencies.create(conda_packages=['scikit-learn'])\n",
    "system_managed_env.python.conda_dependencies = cd\n",
    "\n",
    "# A new conda environment is built. If you are running this for the first time, this might take up to 5 minutes\n",
    "#src.run_config.environment = system_managed_env\n",
    "src = ScriptRunConfig(source_directory='./', script='train.py', environment=system_managed_env)\n",
    "\n",
    "run = exp.submit(src)"
   ]
  },
  {
   "cell_type": "code",
   "execution_count": 27,
   "id": "23d1ad14-2e84-4379-94f8-9e6db939f9b2",
   "metadata": {},
   "outputs": [
    {
     "name": "stdout",
     "output_type": "stream",
     "text": [
      "RunId: train-on-local_1635342732_661fedff\n",
      "Web View: https://ml.azure.com/runs/train-on-local_1635342732_661fedff?wsid=/subscriptions/97b5c2bf-582f-4bb7-92e2-e69b517e9eee/resourcegroups/thomd/workspaces/mlws&tid=ea174250-a629-46ba-9b7c-dce1db69caca\n",
      "\n",
      "Streaming azureml-logs/60_control_log.txt\n",
      "=========================================\n",
      "\n",
      "[2021-10-27T13:52:16.470879] Using urllib.request Python 3.0 or later\n",
      "Streaming log file azureml-logs/60_control_log.txt\n",
      "Starting the daemon thread to refresh tokens in background for process with pid = 58361\n",
      "Running: ['/bin/bash', '/private/var/folders/90/25s8rvks0cnb855kgc27kz6c0000gq/T/azureml_runs/train-on-local_1635342732_661fedff/azureml-environment-setup/conda_env_checker.sh']\n",
      "Materialized conda environment not found on target: /Users/duerr/.azureml/envs/azureml_85479bfecc49d66784832a270c10c00a\n",
      "\n",
      "\n",
      "[2021-10-27T13:52:16.577196] Logging experiment preparation status in history service.\n",
      "Running: ['/bin/bash', '/private/var/folders/90/25s8rvks0cnb855kgc27kz6c0000gq/T/azureml_runs/train-on-local_1635342732_661fedff/azureml-environment-setup/conda_env_builder.sh']\n",
      "Running: ['conda', '--version']\n",
      "[Errno 2] No such file or directory: 'conda'\n",
      "\n",
      "Unable to run conda package manager. AzureML uses conda to provision python\n",
      "environments from a dependency specification. To manage the python environment\n",
      "manually instead, set userManagedDependencies to True in the python environment\n",
      "configuration. To use system managed python environments, install conda from:\n",
      "https://conda.io/miniconda.html\n",
      "\n",
      "\n",
      "\n",
      "[2021-10-27T13:52:17.494086] Logging error in history service: Failed to run ['/bin/bash', '/private/var/folders/90/25s8rvks0cnb855kgc27kz6c0000gq/T/azureml_runs/train-on-local_1635342732_661fedff/azureml-environment-setup/conda_env_builder.sh'] \n",
      " Exit code 1 \n",
      "Details can be found in azureml-logs/60_control_log.txt log file.\n",
      "\n",
      "Uploading control log...\n",
      "\n",
      "Execution Summary\n",
      "=================\n",
      "RunId: train-on-local_1635342732_661fedff\n",
      "Web View: https://ml.azure.com/runs/train-on-local_1635342732_661fedff?wsid=/subscriptions/97b5c2bf-582f-4bb7-92e2-e69b517e9eee/resourcegroups/thomd/workspaces/mlws&tid=ea174250-a629-46ba-9b7c-dce1db69caca\n",
      "\n",
      "Warnings:\n",
      "{\n",
      "  \"error\": {\n",
      "    \"code\": \"ServiceError\",\n",
      "    \"severity\": null,\n",
      "    \"message\": \"Failed to run ['/bin/bash', '/private/var/folders/90/25s8rvks0cnb855kgc27kz6c0000gq/T/azureml_runs/train-on-local_1635342732_661fedff/azureml-environment-setup/conda_env_builder.sh'] \\n Exit code 1 \\nDetails can be found in azureml-logs/60_control_log.txt l\",\n",
      "    \"messageFormat\": null,\n",
      "    \"messageParameters\": {},\n",
      "    \"referenceCode\": null,\n",
      "    \"detailsUri\": null,\n",
      "    \"target\": null,\n",
      "    \"details\": [],\n",
      "    \"innerError\": null,\n",
      "    \"debugInfo\": null,\n",
      "    \"additionalInfo\": null\n",
      "  },\n",
      "  \"correlation\": null,\n",
      "  \"environment\": null,\n",
      "  \"location\": null,\n",
      "  \"time\": \"0001-01-01T00:00:00+00:00\",\n",
      "  \"componentName\": null\n",
      "}\n",
      "\n"
     ]
    },
    {
     "ename": "ActivityFailedException",
     "evalue": "ActivityFailedException:\n\tMessage: Activity Failed:\n{\n    \"error\": {\n        \"code\": \"UserError\",\n        \"message\": \"Unable to run conda package manager. AzureML uses conda to provision python\\nenvironments from a dependency specification. To manage the python environment\\nmanually instead, set userManagedDependencies to True in the python environment\\nconfiguration. To use system managed python environments, install conda from:\\nhttps://conda.io/miniconda.html\",\n        \"messageParameters\": {},\n        \"details\": []\n    },\n    \"time\": \"2021-10-27T13:52:17.281405Z\"\n}\n\tInnerException None\n\tErrorResponse \n{\n    \"error\": {\n        \"message\": \"Activity Failed:\\n{\\n    \\\"error\\\": {\\n        \\\"code\\\": \\\"UserError\\\",\\n        \\\"message\\\": \\\"Unable to run conda package manager. AzureML uses conda to provision python\\\\nenvironments from a dependency specification. To manage the python environment\\\\nmanually instead, set userManagedDependencies to True in the python environment\\\\nconfiguration. To use system managed python environments, install conda from:\\\\nhttps://conda.io/miniconda.html\\\",\\n        \\\"messageParameters\\\": {},\\n        \\\"details\\\": []\\n    },\\n    \\\"time\\\": \\\"2021-10-27T13:52:17.281405Z\\\"\\n}\"\n    }\n}",
     "output_type": "error",
     "traceback": [
      "\u001b[0;31m---------------------------------------------------------------------------\u001b[0m",
      "\u001b[0;31mActivityFailedException\u001b[0m                   Traceback (most recent call last)",
      "\u001b[0;32m/var/folders/90/25s8rvks0cnb855kgc27kz6c0000gq/T/ipykernel_51740/4197735952.py\u001b[0m in \u001b[0;36m<module>\u001b[0;34m\u001b[0m\n\u001b[0;32m----> 1\u001b[0;31m \u001b[0mrun\u001b[0m\u001b[0;34m.\u001b[0m\u001b[0mwait_for_completion\u001b[0m\u001b[0;34m(\u001b[0m\u001b[0mshow_output\u001b[0m\u001b[0;34m=\u001b[0m\u001b[0;32mTrue\u001b[0m\u001b[0;34m)\u001b[0m\u001b[0;34m\u001b[0m\u001b[0;34m\u001b[0m\u001b[0m\n\u001b[0m",
      "\u001b[0;32m~/.virtualenvs/jupyter/lib/python3.9/site-packages/azureml/core/run.py\u001b[0m in \u001b[0;36mwait_for_completion\u001b[0;34m(self, show_output, wait_post_processing, raise_on_error)\u001b[0m\n\u001b[1;32m    824\u001b[0m         \u001b[0;32mif\u001b[0m \u001b[0mshow_output\u001b[0m\u001b[0;34m:\u001b[0m\u001b[0;34m\u001b[0m\u001b[0;34m\u001b[0m\u001b[0m\n\u001b[1;32m    825\u001b[0m             \u001b[0;32mtry\u001b[0m\u001b[0;34m:\u001b[0m\u001b[0;34m\u001b[0m\u001b[0;34m\u001b[0m\u001b[0m\n\u001b[0;32m--> 826\u001b[0;31m                 self._stream_run_output(\n\u001b[0m\u001b[1;32m    827\u001b[0m                     \u001b[0mfile_handle\u001b[0m\u001b[0;34m=\u001b[0m\u001b[0msys\u001b[0m\u001b[0;34m.\u001b[0m\u001b[0mstdout\u001b[0m\u001b[0;34m,\u001b[0m\u001b[0;34m\u001b[0m\u001b[0;34m\u001b[0m\u001b[0m\n\u001b[1;32m    828\u001b[0m                     \u001b[0mwait_post_processing\u001b[0m\u001b[0;34m=\u001b[0m\u001b[0mwait_post_processing\u001b[0m\u001b[0;34m,\u001b[0m\u001b[0;34m\u001b[0m\u001b[0;34m\u001b[0m\u001b[0m\n",
      "\u001b[0;32m~/.virtualenvs/jupyter/lib/python3.9/site-packages/azureml/core/run.py\u001b[0m in \u001b[0;36m_stream_run_output\u001b[0;34m(self, file_handle, wait_post_processing, raise_on_error)\u001b[0m\n\u001b[1;32m   1069\u001b[0m                 \u001b[0mfile_handle\u001b[0m\u001b[0;34m.\u001b[0m\u001b[0mwrite\u001b[0m\u001b[0;34m(\u001b[0m\u001b[0;34m\"\\n\"\u001b[0m\u001b[0;34m)\u001b[0m\u001b[0;34m\u001b[0m\u001b[0;34m\u001b[0m\u001b[0m\n\u001b[1;32m   1070\u001b[0m             \u001b[0;32melse\u001b[0m\u001b[0;34m:\u001b[0m\u001b[0;34m\u001b[0m\u001b[0;34m\u001b[0m\u001b[0m\n\u001b[0;32m-> 1071\u001b[0;31m                 \u001b[0;32mraise\u001b[0m \u001b[0mActivityFailedException\u001b[0m\u001b[0;34m(\u001b[0m\u001b[0merror_details\u001b[0m\u001b[0;34m=\u001b[0m\u001b[0mjson\u001b[0m\u001b[0;34m.\u001b[0m\u001b[0mdumps\u001b[0m\u001b[0;34m(\u001b[0m\u001b[0merror\u001b[0m\u001b[0;34m,\u001b[0m \u001b[0mindent\u001b[0m\u001b[0;34m=\u001b[0m\u001b[0;36m4\u001b[0m\u001b[0;34m)\u001b[0m\u001b[0;34m)\u001b[0m\u001b[0;34m\u001b[0m\u001b[0;34m\u001b[0m\u001b[0m\n\u001b[0m\u001b[1;32m   1072\u001b[0m \u001b[0;34m\u001b[0m\u001b[0m\n\u001b[1;32m   1073\u001b[0m         \u001b[0mfile_handle\u001b[0m\u001b[0;34m.\u001b[0m\u001b[0mwrite\u001b[0m\u001b[0;34m(\u001b[0m\u001b[0;34m\"\\n\"\u001b[0m\u001b[0;34m)\u001b[0m\u001b[0;34m\u001b[0m\u001b[0;34m\u001b[0m\u001b[0m\n",
      "\u001b[0;31mActivityFailedException\u001b[0m: ActivityFailedException:\n\tMessage: Activity Failed:\n{\n    \"error\": {\n        \"code\": \"UserError\",\n        \"message\": \"Unable to run conda package manager. AzureML uses conda to provision python\\nenvironments from a dependency specification. To manage the python environment\\nmanually instead, set userManagedDependencies to True in the python environment\\nconfiguration. To use system managed python environments, install conda from:\\nhttps://conda.io/miniconda.html\",\n        \"messageParameters\": {},\n        \"details\": []\n    },\n    \"time\": \"2021-10-27T13:52:17.281405Z\"\n}\n\tInnerException None\n\tErrorResponse \n{\n    \"error\": {\n        \"message\": \"Activity Failed:\\n{\\n    \\\"error\\\": {\\n        \\\"code\\\": \\\"UserError\\\",\\n        \\\"message\\\": \\\"Unable to run conda package manager. AzureML uses conda to provision python\\\\nenvironments from a dependency specification. To manage the python environment\\\\nmanually instead, set userManagedDependencies to True in the python environment\\\\nconfiguration. To use system managed python environments, install conda from:\\\\nhttps://conda.io/miniconda.html\\\",\\n        \\\"messageParameters\\\": {},\\n        \\\"details\\\": []\\n    },\\n    \\\"time\\\": \\\"2021-10-27T13:52:17.281405Z\\\"\\n}\"\n    }\n}"
     ]
    }
   ],
   "source": [
    "run.wait_for_completion(show_output=True)"
   ]
  },
  {
   "cell_type": "markdown",
   "id": "7c2ac128-e805-4fb8-b8a7-29eddc620cb5",
   "metadata": {},
   "source": [
    "#### Docker-based Execution\n",
    "\n",
    "Train the models in a **Docker container on your local machine**. For this, you then need to have the Docker engine installed locally.\n",
    "\n",
    "If your kernel is already running in a Docker container, such as Azure Notebooks, this mode will **NOT** work."
   ]
  },
  {
   "cell_type": "code",
   "execution_count": 28,
   "id": "cb12790d-06b4-47fb-9de5-d98a5b7f21ff",
   "metadata": {},
   "outputs": [
    {
     "name": "stderr",
     "output_type": "stream",
     "text": [
      "'enabled' is deprecated. Please use the azureml.core.runconfig.DockerConfiguration object with the 'use_docker' param instead.\n"
     ]
    },
    {
     "name": "stdout",
     "output_type": "stream",
     "text": [
      "mcr.microsoft.com/azureml/openmpi3.1.2-ubuntu18.04:20210922.v1\n"
     ]
    }
   ],
   "source": [
    "docker_env = Environment('docker-env')\n",
    "\n",
    "docker_env.python.user_managed_dependencies = False\n",
    "docker_env.docker.enabled = True\n",
    "\n",
    "# use the default CPU-based Docker image from Azure ML\n",
    "print(docker_env.docker.base_image)\n",
    "\n",
    "# Specify conda dependencies with scikit-learn\n",
    "cd = CondaDependencies.create(conda_packages=['scikit-learn'])\n",
    "docker_env.python.conda_dependencies = cd"
   ]
  },
  {
   "cell_type": "code",
   "execution_count": 31,
   "id": "b4f2121d-42e6-4f2f-8354-efb1e833ca88",
   "metadata": {},
   "outputs": [
    {
     "name": "stdout",
     "output_type": "stream",
     "text": [
      "Docker version 20.10.8, build 3967b7d\n",
      "running ...\n"
     ]
    }
   ],
   "source": [
    "import subprocess\n",
    "\n",
    "src.run_config.environment = docker_env\n",
    "\n",
    "# Check if Docker is installed and Linux containers are enabled\n",
    "if subprocess.run(\"docker -v\", shell=True).returncode == 0:\n",
    "    out = subprocess.check_output(\"docker system info\", shell=True).decode('ascii')\n",
    "    if not \"OSType: linux\" in out:\n",
    "        print(\"Switch Docker engine to use Linux containers.\")\n",
    "    else:\n",
    "        run = exp.submit(src)\n",
    "else:\n",
    "    print(\"Docker engine is not installed.\")"
   ]
  },
  {
   "cell_type": "code",
   "execution_count": 30,
   "id": "e2b67be9-4246-45ec-97eb-ee9532bec4ea",
   "metadata": {},
   "outputs": [
    {
     "data": {
      "text/html": [
       "<table style=\"width:100%\"><tr><th>Experiment</th><th>Id</th><th>Type</th><th>Status</th><th>Details Page</th><th>Docs Page</th></tr><tr><td>train-on-local</td><td>train-on-local_1635343117_aa73c104</td><td>azureml.scriptrun</td><td>Starting</td><td><a href=\"https://ml.azure.com/runs/train-on-local_1635343117_aa73c104?wsid=/subscriptions/97b5c2bf-582f-4bb7-92e2-e69b517e9eee/resourcegroups/thomd/workspaces/mlws&amp;tid=ea174250-a629-46ba-9b7c-dce1db69caca\" target=\"_blank\" rel=\"noopener\">Link to Azure Machine Learning studio</a></td><td><a href=\"https://docs.microsoft.com/en-us/python/api/azureml-core/azureml.core.script_run.ScriptRun?view=azure-ml-py\" target=\"_blank\" rel=\"noopener\">Link to Documentation</a></td></tr></table>"
      ],
      "text/plain": [
       "Run(Experiment: train-on-local,\n",
       "Id: train-on-local_1635343117_aa73c104,\n",
       "Type: azureml.scriptrun,\n",
       "Status: Starting)"
      ]
     },
     "execution_count": 30,
     "metadata": {},
     "output_type": "execute_result"
    }
   ],
   "source": [
    "run"
   ]
  },
  {
   "cell_type": "code",
   "execution_count": 32,
   "id": "71596f8c-3598-41f6-a057-e520bbe9ac10",
   "metadata": {},
   "outputs": [
    {
     "name": "stdout",
     "output_type": "stream",
     "text": [
      "RunId: train-on-local_1635343215_3b01e74d\n",
      "Web View: https://ml.azure.com/runs/train-on-local_1635343215_3b01e74d?wsid=/subscriptions/97b5c2bf-582f-4bb7-92e2-e69b517e9eee/resourcegroups/thomd/workspaces/mlws&tid=ea174250-a629-46ba-9b7c-dce1db69caca\n",
      "\n",
      "Execution Summary\n",
      "=================\n",
      "RunId: train-on-local_1635343215_3b01e74d\n",
      "Web View: https://ml.azure.com/runs/train-on-local_1635343215_3b01e74d?wsid=/subscriptions/97b5c2bf-582f-4bb7-92e2-e69b517e9eee/resourcegroups/thomd/workspaces/mlws&tid=ea174250-a629-46ba-9b7c-dce1db69caca\n",
      "\n",
      "Warnings:\n",
      "{\n",
      "  \"error\": {\n",
      "    \"code\": \"ServiceError\",\n",
      "    \"severity\": null,\n",
      "    \"message\": \"Failed to run ['/bin/bash', '/private/var/folders/90/25s8rvks0cnb855kgc27kz6c0000gq/T/azureml_runs/train-on-local_1635343215_3b01e74d/azureml-environment-setup/conda_env_builder.sh'] \\n Exit code 1 \\nDetails can be found in azureml-logs/60_control_log.txt l\",\n",
      "    \"messageFormat\": null,\n",
      "    \"messageParameters\": {},\n",
      "    \"referenceCode\": null,\n",
      "    \"detailsUri\": null,\n",
      "    \"target\": null,\n",
      "    \"details\": [],\n",
      "    \"innerError\": null,\n",
      "    \"debugInfo\": null,\n",
      "    \"additionalInfo\": null\n",
      "  },\n",
      "  \"correlation\": null,\n",
      "  \"environment\": null,\n",
      "  \"location\": null,\n",
      "  \"time\": \"0001-01-01T00:00:00+00:00\",\n",
      "  \"componentName\": null\n",
      "}\n",
      "\n"
     ]
    },
    {
     "ename": "ActivityFailedException",
     "evalue": "ActivityFailedException:\n\tMessage: Activity Failed:\n{\n    \"error\": {\n        \"code\": \"UserError\",\n        \"message\": \"Unable to run conda package manager. AzureML uses conda to provision python\\nenvironments from a dependency specification. To manage the python environment\\nmanually instead, set userManagedDependencies to True in the python environment\\nconfiguration. To use system managed python environments, install conda from:\\nhttps://conda.io/miniconda.html\",\n        \"messageParameters\": {},\n        \"details\": []\n    },\n    \"time\": \"2021-10-27T14:00:17.661648Z\"\n}\n\tInnerException None\n\tErrorResponse \n{\n    \"error\": {\n        \"message\": \"Activity Failed:\\n{\\n    \\\"error\\\": {\\n        \\\"code\\\": \\\"UserError\\\",\\n        \\\"message\\\": \\\"Unable to run conda package manager. AzureML uses conda to provision python\\\\nenvironments from a dependency specification. To manage the python environment\\\\nmanually instead, set userManagedDependencies to True in the python environment\\\\nconfiguration. To use system managed python environments, install conda from:\\\\nhttps://conda.io/miniconda.html\\\",\\n        \\\"messageParameters\\\": {},\\n        \\\"details\\\": []\\n    },\\n    \\\"time\\\": \\\"2021-10-27T14:00:17.661648Z\\\"\\n}\"\n    }\n}",
     "output_type": "error",
     "traceback": [
      "\u001b[0;31m---------------------------------------------------------------------------\u001b[0m",
      "\u001b[0;31mActivityFailedException\u001b[0m                   Traceback (most recent call last)",
      "\u001b[0;32m/var/folders/90/25s8rvks0cnb855kgc27kz6c0000gq/T/ipykernel_51740/4197735952.py\u001b[0m in \u001b[0;36m<module>\u001b[0;34m\u001b[0m\n\u001b[0;32m----> 1\u001b[0;31m \u001b[0mrun\u001b[0m\u001b[0;34m.\u001b[0m\u001b[0mwait_for_completion\u001b[0m\u001b[0;34m(\u001b[0m\u001b[0mshow_output\u001b[0m\u001b[0;34m=\u001b[0m\u001b[0;32mTrue\u001b[0m\u001b[0;34m)\u001b[0m\u001b[0;34m\u001b[0m\u001b[0;34m\u001b[0m\u001b[0m\n\u001b[0m",
      "\u001b[0;32m~/.virtualenvs/jupyter/lib/python3.9/site-packages/azureml/core/run.py\u001b[0m in \u001b[0;36mwait_for_completion\u001b[0;34m(self, show_output, wait_post_processing, raise_on_error)\u001b[0m\n\u001b[1;32m    824\u001b[0m         \u001b[0;32mif\u001b[0m \u001b[0mshow_output\u001b[0m\u001b[0;34m:\u001b[0m\u001b[0;34m\u001b[0m\u001b[0;34m\u001b[0m\u001b[0m\n\u001b[1;32m    825\u001b[0m             \u001b[0;32mtry\u001b[0m\u001b[0;34m:\u001b[0m\u001b[0;34m\u001b[0m\u001b[0;34m\u001b[0m\u001b[0m\n\u001b[0;32m--> 826\u001b[0;31m                 self._stream_run_output(\n\u001b[0m\u001b[1;32m    827\u001b[0m                     \u001b[0mfile_handle\u001b[0m\u001b[0;34m=\u001b[0m\u001b[0msys\u001b[0m\u001b[0;34m.\u001b[0m\u001b[0mstdout\u001b[0m\u001b[0;34m,\u001b[0m\u001b[0;34m\u001b[0m\u001b[0;34m\u001b[0m\u001b[0m\n\u001b[1;32m    828\u001b[0m                     \u001b[0mwait_post_processing\u001b[0m\u001b[0;34m=\u001b[0m\u001b[0mwait_post_processing\u001b[0m\u001b[0;34m,\u001b[0m\u001b[0;34m\u001b[0m\u001b[0;34m\u001b[0m\u001b[0m\n",
      "\u001b[0;32m~/.virtualenvs/jupyter/lib/python3.9/site-packages/azureml/core/run.py\u001b[0m in \u001b[0;36m_stream_run_output\u001b[0;34m(self, file_handle, wait_post_processing, raise_on_error)\u001b[0m\n\u001b[1;32m   1069\u001b[0m                 \u001b[0mfile_handle\u001b[0m\u001b[0;34m.\u001b[0m\u001b[0mwrite\u001b[0m\u001b[0;34m(\u001b[0m\u001b[0;34m\"\\n\"\u001b[0m\u001b[0;34m)\u001b[0m\u001b[0;34m\u001b[0m\u001b[0;34m\u001b[0m\u001b[0m\n\u001b[1;32m   1070\u001b[0m             \u001b[0;32melse\u001b[0m\u001b[0;34m:\u001b[0m\u001b[0;34m\u001b[0m\u001b[0;34m\u001b[0m\u001b[0m\n\u001b[0;32m-> 1071\u001b[0;31m                 \u001b[0;32mraise\u001b[0m \u001b[0mActivityFailedException\u001b[0m\u001b[0;34m(\u001b[0m\u001b[0merror_details\u001b[0m\u001b[0;34m=\u001b[0m\u001b[0mjson\u001b[0m\u001b[0;34m.\u001b[0m\u001b[0mdumps\u001b[0m\u001b[0;34m(\u001b[0m\u001b[0merror\u001b[0m\u001b[0;34m,\u001b[0m \u001b[0mindent\u001b[0m\u001b[0;34m=\u001b[0m\u001b[0;36m4\u001b[0m\u001b[0;34m)\u001b[0m\u001b[0;34m)\u001b[0m\u001b[0;34m\u001b[0m\u001b[0;34m\u001b[0m\u001b[0m\n\u001b[0m\u001b[1;32m   1072\u001b[0m \u001b[0;34m\u001b[0m\u001b[0m\n\u001b[1;32m   1073\u001b[0m         \u001b[0mfile_handle\u001b[0m\u001b[0;34m.\u001b[0m\u001b[0mwrite\u001b[0m\u001b[0;34m(\u001b[0m\u001b[0;34m\"\\n\"\u001b[0m\u001b[0;34m)\u001b[0m\u001b[0;34m\u001b[0m\u001b[0;34m\u001b[0m\u001b[0m\n",
      "\u001b[0;31mActivityFailedException\u001b[0m: ActivityFailedException:\n\tMessage: Activity Failed:\n{\n    \"error\": {\n        \"code\": \"UserError\",\n        \"message\": \"Unable to run conda package manager. AzureML uses conda to provision python\\nenvironments from a dependency specification. To manage the python environment\\nmanually instead, set userManagedDependencies to True in the python environment\\nconfiguration. To use system managed python environments, install conda from:\\nhttps://conda.io/miniconda.html\",\n        \"messageParameters\": {},\n        \"details\": []\n    },\n    \"time\": \"2021-10-27T14:00:17.661648Z\"\n}\n\tInnerException None\n\tErrorResponse \n{\n    \"error\": {\n        \"message\": \"Activity Failed:\\n{\\n    \\\"error\\\": {\\n        \\\"code\\\": \\\"UserError\\\",\\n        \\\"message\\\": \\\"Unable to run conda package manager. AzureML uses conda to provision python\\\\nenvironments from a dependency specification. To manage the python environment\\\\nmanually instead, set userManagedDependencies to True in the python environment\\\\nconfiguration. To use system managed python environments, install conda from:\\\\nhttps://conda.io/miniconda.html\\\",\\n        \\\"messageParameters\\\": {},\\n        \\\"details\\\": []\\n    },\\n    \\\"time\\\": \\\"2021-10-27T14:00:17.661648Z\\\"\\n}\"\n    }\n}"
     ]
    }
   ],
   "source": [
    "run.wait_for_completion(show_output=True)"
   ]
  },
  {
   "cell_type": "code",
   "execution_count": null,
   "id": "8c2dd565-37b7-45b7-8118-a5eeb3552424",
   "metadata": {},
   "outputs": [],
   "source": []
  }
 ],
 "metadata": {
  "kernelspec": {
   "display_name": "Python 3 (ipykernel)",
   "language": "python",
   "name": "python3"
  },
  "language_info": {
   "codemirror_mode": {
    "name": "ipython",
    "version": 3
   },
   "file_extension": ".py",
   "mimetype": "text/x-python",
   "name": "python",
   "nbconvert_exporter": "python",
   "pygments_lexer": "ipython3",
   "version": "3.9.7"
  }
 },
 "nbformat": 4,
 "nbformat_minor": 5
}
