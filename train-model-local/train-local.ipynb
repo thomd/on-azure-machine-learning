{
 "cells": [
  {
   "cell_type": "markdown",
   "id": "13cfe876-cc3d-4db3-82bc-8ddad6263178",
   "metadata": {},
   "source": [
    "# Train a Model using Local Computer as Compute Target\n",
    "\n",
    "Trained models are uploaded to Azure ML into `Home > Experiments > train-on-local > {run-id} > Output + logs > outputs` and can be accessed via the API."
   ]
  },
  {
   "cell_type": "code",
   "execution_count": 1,
   "id": "946d9d52-7351-4446-956f-13198bb4425b",
   "metadata": {},
   "outputs": [
    {
     "name": "stdout",
     "output_type": "stream",
     "text": [
      "Python implementation: CPython\n",
      "Python version       : 3.9.7\n",
      "IPython version      : 7.28.0\n",
      "\n",
      "sklearn     : 1.0.1\n",
      "azureml.core: 1.35.0\n",
      "\n"
     ]
    }
   ],
   "source": [
    "%load_ext watermark\n",
    "%watermark -v -d -p sklearn,azureml.core"
   ]
  },
  {
   "cell_type": "code",
   "execution_count": 2,
   "id": "a8edf5ae-9338-4137-ab80-28180a400a98",
   "metadata": {},
   "outputs": [],
   "source": [
    "import azureml.core"
   ]
  },
  {
   "cell_type": "markdown",
   "id": "b4a28756-1f98-41ea-87a2-fb8de6f6d305",
   "metadata": {},
   "source": [
    "## Initialize Workspace\n",
    "\n",
    "Create a ML workspace in **Azure ML Studio** and export `config.json`"
   ]
  },
  {
   "cell_type": "code",
   "execution_count": 4,
   "id": "6649eb07-9a16-464e-93ef-3db1d5b115f2",
   "metadata": {},
   "outputs": [
    {
     "name": "stdout",
     "output_type": "stream",
     "text": [
      "thomdml\n",
      "thomd\n",
      "eastus\n"
     ]
    }
   ],
   "source": [
    "from azureml.core.workspace import Workspace\n",
    "import json\n",
    "\n",
    "with open('config.json', 'r') as f:\n",
    "    config = json.load(f)\n",
    "    \n",
    "ws = Workspace(workspace_name=config['workspace_name'], subscription_id=config['subscription_id'], resource_group=config['resource_group'])\n",
    "ws.write_config()\n",
    "\n",
    "print(ws.name, ws.resource_group, ws.location, sep='\\n')"
   ]
  },
  {
   "cell_type": "markdown",
   "id": "ec3096f4-8f46-448d-829c-587b54ab2280",
   "metadata": {},
   "source": [
    "## Create Experiment"
   ]
  },
  {
   "cell_type": "code",
   "execution_count": 5,
   "id": "981d9e1e-abaf-471a-af49-e6ce7d58461e",
   "metadata": {},
   "outputs": [],
   "source": [
    "from azureml.core import Experiment\n",
    "\n",
    "exp = Experiment(workspace=ws, name='train-on-local')"
   ]
  },
  {
   "cell_type": "markdown",
   "id": "e699cdf2-0182-404e-a1b7-d476b7bb1c44",
   "metadata": {},
   "source": [
    "Write the training script `train.py` to file"
   ]
  },
  {
   "cell_type": "code",
   "execution_count": 6,
   "id": "0bf7ed17-9dfa-411e-9e62-d2d08e08a177",
   "metadata": {},
   "outputs": [
    {
     "name": "stdout",
     "output_type": "stream",
     "text": [
      "Overwriting train.py\n"
     ]
    }
   ],
   "source": [
    "%%writefile train.py\n",
    "from sklearn.datasets import load_diabetes\n",
    "from sklearn.linear_model import Ridge\n",
    "from sklearn.metrics import mean_squared_error\n",
    "from sklearn.model_selection import train_test_split\n",
    "from azureml.core.run import Run\n",
    "import os\n",
    "import numpy as np\n",
    "import joblib\n",
    "\n",
    "os.makedirs('./outputs', exist_ok=True)   # to save model in the outputs folder so it automatically get uploaded\n",
    "\n",
    "X, y = load_diabetes(return_X_y=True)\n",
    "\n",
    "run = Run.get_context()\n",
    "\n",
    "X_train, X_test, y_train, y_test = train_test_split(X, y, test_size=0.2, random_state=0)\n",
    "\n",
    "for alpha in np.arange(0.0, 1.0, 0.05):\n",
    "    reg = Ridge(alpha=alpha)\n",
    "    reg.fit(X_train, y_train)\n",
    "    preds = reg.predict(X_test)\n",
    "    mse = mean_squared_error(preds, y_test)\n",
    "    run.log('alpha', alpha)\n",
    "    run.log('mse', mse)\n",
    "    model_file_name = 'ridge_{0:.2f}.pkl'.format(alpha)\n",
    "    with open(model_file_name, 'wb') as file:\n",
    "        joblib.dump(value=reg, filename=os.path.join('./outputs/', model_file_name))\n",
    "\n",
    "    print('alpha is {0:.2f}, and mse is {1:0.2f}'.format(alpha, mse))\n"
   ]
  },
  {
   "cell_type": "markdown",
   "id": "b154f8b9-7564-4fa1-81f3-462b9da85ac8",
   "metadata": {},
   "source": [
    "## Run Experiment on Local Computer"
   ]
  },
  {
   "cell_type": "code",
   "execution_count": 7,
   "id": "7005561b-8566-425c-9d7b-d64da80d3a78",
   "metadata": {},
   "outputs": [],
   "source": [
    "from azureml.core import Environment\n",
    "from azureml.core import ScriptRunConfig\n",
    "from azureml.core.conda_dependencies import CondaDependencies"
   ]
  },
  {
   "cell_type": "markdown",
   "id": "9f6c8723-23e0-4d53-b49b-acb9a9a799dd",
   "metadata": {},
   "source": [
    "### User-Managed Environment\n",
    "\n",
    "When using a **user-managed environment**, you are responsible for ensuring that all the necessary packages are available in the Python environment you choose to run the script in."
   ]
  },
  {
   "cell_type": "code",
   "execution_count": 8,
   "id": "dfe8c1ad-f91c-493b-9893-16c58d272293",
   "metadata": {},
   "outputs": [],
   "source": [
    "user_managed_env = Environment('user-managed-env')\n",
    "user_managed_env.python.user_managed_dependencies = True\n",
    "\n",
    "# You can choose a specific Python environment by pointing to a Python path \n",
    "#user_managed_env.python.interpreter_path = '/Users/duerr/.virtualenvs/jupyter/bin/python'\n",
    "\n",
    "src = ScriptRunConfig(source_directory='./', script='train.py', environment=user_managed_env)\n",
    "run = exp.submit(src)"
   ]
  },
  {
   "cell_type": "markdown",
   "id": "bdf0399a-9b7c-44f2-b8e9-6850ae92ddc2",
   "metadata": {},
   "source": [
    "Get run history details"
   ]
  },
  {
   "cell_type": "code",
   "execution_count": 9,
   "id": "92b92d26-e9db-4032-bb46-dbc4b9096b8c",
   "metadata": {},
   "outputs": [],
   "source": [
    "# run.wait_for_completion(show_output=True)"
   ]
  },
  {
   "cell_type": "code",
   "execution_count": 10,
   "id": "a2edbd04-a8c2-434b-b294-e9bf6686a3f1",
   "metadata": {},
   "outputs": [
    {
     "data": {
      "text/html": [
       "<table style=\"width:100%\"><tr><th>Experiment</th><th>Id</th><th>Type</th><th>Status</th><th>Details Page</th><th>Docs Page</th></tr><tr><td>train-on-local</td><td>train-on-local_1636298126_8ae4a0d8</td><td>azureml.scriptrun</td><td>Running</td><td><a href=\"https://ml.azure.com/runs/train-on-local_1636298126_8ae4a0d8?wsid=/subscriptions/97b5c2bf-582f-4bb7-92e2-e69b517e9eee/resourcegroups/thomd/workspaces/thomdml&amp;tid=ea174250-a629-46ba-9b7c-dce1db69caca\" target=\"_blank\" rel=\"noopener\">Link to Azure Machine Learning studio</a></td><td><a href=\"https://docs.microsoft.com/en-us/python/api/azureml-core/azureml.core.script_run.ScriptRun?view=azure-ml-py\" target=\"_blank\" rel=\"noopener\">Link to Documentation</a></td></tr></table>"
      ],
      "text/plain": [
       "Run(Experiment: train-on-local,\n",
       "Id: train-on-local_1636298126_8ae4a0d8,\n",
       "Type: azureml.scriptrun,\n",
       "Status: Running)"
      ]
     },
     "execution_count": 10,
     "metadata": {},
     "output_type": "execute_result"
    }
   ],
   "source": [
    "run"
   ]
  },
  {
   "cell_type": "markdown",
   "id": "afe820c4-0576-46c1-b787-a55fafe612c8",
   "metadata": {},
   "source": [
    "### System-Managed Environment\n",
    "\n",
    "Instead of managing the setup of the environment yourself, you can **ask the system to build a new local conda environment** within `~/.azureml/envs/`. The environment is built once, and will be **reused** in subsequent executions as long as the conda dependencies remain unchanged."
   ]
  },
  {
   "cell_type": "code",
   "execution_count": 11,
   "id": "1729276b-7a4c-4b4c-b324-4ded04b2e534",
   "metadata": {},
   "outputs": [],
   "source": [
    "system_managed_env = Environment('system-managed-env')\n",
    "system_managed_env.python.user_managed_dependencies = False\n",
    "\n",
    "# Specify conda dependencies with scikit-learn\n",
    "system_managed_env.python.conda_dependencies = CondaDependencies.create(\n",
    "    conda_packages=['scikit-learn', 'pip'],\n",
    "    pip_packages=['azureml-core']\n",
    ")\n",
    "system_managed_env.environment_variables = {'PIP_REQUIRE_VIRTUALENV': 'false'}\n",
    "\n",
    "# A new conda environment is built. If you are running this for the first time, this might take up to 5 minutes\n",
    "src = ScriptRunConfig(source_directory='./', script='train.py', environment=system_managed_env)\n",
    "\n",
    "run = exp.submit(src)"
   ]
  },
  {
   "cell_type": "code",
   "execution_count": 12,
   "id": "23d1ad14-2e84-4379-94f8-9e6db939f9b2",
   "metadata": {},
   "outputs": [
    {
     "data": {
      "text/html": [
       "<table style=\"width:100%\"><tr><th>Experiment</th><th>Id</th><th>Type</th><th>Status</th><th>Details Page</th><th>Docs Page</th></tr><tr><td>train-on-local</td><td>train-on-local_1636298207_8f9059ca</td><td>azureml.scriptrun</td><td>Running</td><td><a href=\"https://ml.azure.com/runs/train-on-local_1636298207_8f9059ca?wsid=/subscriptions/97b5c2bf-582f-4bb7-92e2-e69b517e9eee/resourcegroups/thomd/workspaces/thomdml&amp;tid=ea174250-a629-46ba-9b7c-dce1db69caca\" target=\"_blank\" rel=\"noopener\">Link to Azure Machine Learning studio</a></td><td><a href=\"https://docs.microsoft.com/en-us/python/api/azureml-core/azureml.core.script_run.ScriptRun?view=azure-ml-py\" target=\"_blank\" rel=\"noopener\">Link to Documentation</a></td></tr></table>"
      ],
      "text/plain": [
       "Run(Experiment: train-on-local,\n",
       "Id: train-on-local_1636298207_8f9059ca,\n",
       "Type: azureml.scriptrun,\n",
       "Status: Running)"
      ]
     },
     "execution_count": 12,
     "metadata": {},
     "output_type": "execute_result"
    }
   ],
   "source": [
    "#run.wait_for_completion(show_output=True)\n",
    "run"
   ]
  },
  {
   "cell_type": "markdown",
   "id": "7c2ac128-e805-4fb8-b8a7-29eddc620cb5",
   "metadata": {},
   "source": [
    "### Docker-based Execution\n",
    "\n",
    "Train the models in a **Docker container on your local machine**. For this, you then need to have the Docker engine installed **locally**.\n",
    "\n",
    "If your kernel is already running in a Docker container, such as Azure Notebooks, this mode will **NOT** work."
   ]
  },
  {
   "cell_type": "code",
   "execution_count": 13,
   "id": "cb12790d-06b4-47fb-9de5-d98a5b7f21ff",
   "metadata": {},
   "outputs": [
    {
     "name": "stdout",
     "output_type": "stream",
     "text": [
      "Docker Image: mcr.microsoft.com/azureml/openmpi3.1.2-ubuntu18.04:20210922.v1\n"
     ]
    }
   ],
   "source": [
    "docker_env = Environment('docker-env')\n",
    "\n",
    "from azureml.core.runconfig import DockerConfiguration\n",
    "dc = DockerConfiguration(use_docker=True)\n",
    "docker_env.python.user_managed_dependencies = False\n",
    "\n",
    "# use the default CPU-based Docker image from Azure ML\n",
    "print(f'Docker Image: {docker_env.docker.base_image}')\n",
    "\n",
    "# Specify conda dependencies with scikit-learn\n",
    "docker_env.python.conda_dependencies = CondaDependencies.create(\n",
    "    conda_packages=['scikit-learn', 'pip'],\n",
    "    pip_packages=['azureml-core']\n",
    ")\n",
    "docker_env.environment_variables = {'PIP_REQUIRE_VIRTUALENV': 'false'}\n",
    "\n",
    "src = ScriptRunConfig(source_directory='./',  script='train.py', environment=docker_env, docker_runtime_config=dc)"
   ]
  },
  {
   "cell_type": "code",
   "execution_count": 14,
   "id": "b4f2121d-42e6-4f2f-8354-efb1e833ca88",
   "metadata": {},
   "outputs": [
    {
     "name": "stdout",
     "output_type": "stream",
     "text": [
      "Docker version 20.10.8, build 3967b7d\n"
     ]
    }
   ],
   "source": [
    "import subprocess\n",
    "\n",
    "# Check if Docker is installed and Linux containers are enabled\n",
    "if subprocess.run('docker -v', shell=True).returncode == 0:\n",
    "    out = subprocess.check_output('docker system info', shell=True).decode('ascii')\n",
    "    if not 'OSType: linux' in out:\n",
    "        print('Switch Docker engine to use Linux containers')\n",
    "    else:\n",
    "        run = exp.submit(src)\n",
    "else:\n",
    "    print('Docker engine is not installed')"
   ]
  },
  {
   "cell_type": "code",
   "execution_count": 15,
   "id": "e2b67be9-4246-45ec-97eb-ee9532bec4ea",
   "metadata": {},
   "outputs": [
    {
     "data": {
      "text/html": [
       "<table style=\"width:100%\"><tr><th>Experiment</th><th>Id</th><th>Type</th><th>Status</th><th>Details Page</th><th>Docs Page</th></tr><tr><td>train-on-local</td><td>train-on-local_1636298295_5b7ee13a</td><td>azureml.scriptrun</td><td>Running</td><td><a href=\"https://ml.azure.com/runs/train-on-local_1636298295_5b7ee13a?wsid=/subscriptions/97b5c2bf-582f-4bb7-92e2-e69b517e9eee/resourcegroups/thomd/workspaces/thomdml&amp;tid=ea174250-a629-46ba-9b7c-dce1db69caca\" target=\"_blank\" rel=\"noopener\">Link to Azure Machine Learning studio</a></td><td><a href=\"https://docs.microsoft.com/en-us/python/api/azureml-core/azureml.core.script_run.ScriptRun?view=azure-ml-py\" target=\"_blank\" rel=\"noopener\">Link to Documentation</a></td></tr></table>"
      ],
      "text/plain": [
       "Run(Experiment: train-on-local,\n",
       "Id: train-on-local_1636298295_5b7ee13a,\n",
       "Type: azureml.scriptrun,\n",
       "Status: Running)"
      ]
     },
     "execution_count": 15,
     "metadata": {},
     "output_type": "execute_result"
    }
   ],
   "source": [
    "#run.wait_for_completion(show_output=True)\n",
    "run"
   ]
  },
  {
   "cell_type": "markdown",
   "id": "db4f262b-71fd-4ecd-8fc5-1393b9a4498f",
   "metadata": {},
   "source": [
    "## Query Metrics from Azure ML\n",
    "\n",
    "Extract the **captured metrics**:"
   ]
  },
  {
   "cell_type": "code",
   "execution_count": 16,
   "id": "fa22b4bc-8f0e-4832-8059-c87c9fbb1d17",
   "metadata": {},
   "outputs": [],
   "source": [
    "run.get_metrics()\n",
    "metrics = run.get_metrics()"
   ]
  },
  {
   "cell_type": "markdown",
   "id": "77b0b9f5-204e-4923-a4eb-f88c5390335c",
   "metadata": {},
   "source": [
    "Find the model of the last run that has the lowest MSE value logged"
   ]
  },
  {
   "cell_type": "code",
   "execution_count": 17,
   "id": "d58fa295-552f-446f-b0b4-18d8fa83b391",
   "metadata": {},
   "outputs": [
    {
     "name": "stdout",
     "output_type": "stream",
     "text": [
      "When alpha is 0.40, we have min MSE 3295.74.\n"
     ]
    }
   ],
   "source": [
    "import numpy as np\n",
    "\n",
    "best_alpha = metrics['alpha'][np.argmin(metrics['mse'])]\n",
    "\n",
    "print('When alpha is {1:0.2f}, we have min MSE {0:0.2f}.'.format(\n",
    "    min(metrics['mse']), \n",
    "    best_alpha\n",
    "))"
   ]
  },
  {
   "cell_type": "code",
   "execution_count": 18,
   "id": "159014cf-7611-44e5-9a5f-55432f2e8a35",
   "metadata": {},
   "outputs": [
    {
     "data": {
      "image/png": "[encoded data removed]",
      "text/plain": [
       "<Figure size 432x288 with 1 Axes>"
      ]
     },
     "metadata": {
      "needs_background": "light"
     },
     "output_type": "display_data"
    }
   ],
   "source": [
    "%matplotlib inline\n",
    "import matplotlib.pyplot as plt\n",
    "\n",
    "plt.plot(metrics['alpha'], metrics['mse'], marker='o')\n",
    "plt.ylabel(\"MSE\")\n",
    "plt.xlabel(\"alpha\");"
   ]
  },
  {
   "cell_type": "markdown",
   "id": "498516be-1d8a-46db-80c2-9def1b1e9b83",
   "metadata": {},
   "source": [
    "List all the files that are associated with this run record:"
   ]
  },
  {
   "cell_type": "code",
   "execution_count": 19,
   "id": "42e80c78-e934-4ed1-a034-3e334cfae9ae",
   "metadata": {},
   "outputs": [
    {
     "data": {
      "text/plain": [
       "['azureml-logs/60_control_log.txt',\n",
       " 'azureml-logs/70_driver_log.txt',\n",
       " 'logs/azureml/8_azureml.log',\n",
       " 'outputs/ridge_0.00.pkl',\n",
       " 'outputs/ridge_0.05.pkl',\n",
       " 'outputs/ridge_0.10.pkl',\n",
       " 'outputs/ridge_0.15.pkl',\n",
       " 'outputs/ridge_0.20.pkl',\n",
       " 'outputs/ridge_0.25.pkl',\n",
       " 'outputs/ridge_0.30.pkl',\n",
       " 'outputs/ridge_0.35.pkl',\n",
       " 'outputs/ridge_0.40.pkl',\n",
       " 'outputs/ridge_0.45.pkl',\n",
       " 'outputs/ridge_0.50.pkl',\n",
       " 'outputs/ridge_0.55.pkl',\n",
       " 'outputs/ridge_0.60.pkl',\n",
       " 'outputs/ridge_0.65.pkl',\n",
       " 'outputs/ridge_0.70.pkl',\n",
       " 'outputs/ridge_0.75.pkl',\n",
       " 'outputs/ridge_0.80.pkl',\n",
       " 'outputs/ridge_0.85.pkl',\n",
       " 'outputs/ridge_0.90.pkl',\n",
       " 'outputs/ridge_0.95.pkl']"
      ]
     },
     "execution_count": 19,
     "metadata": {},
     "output_type": "execute_result"
    }
   ],
   "source": [
    "run.get_file_names()"
   ]
  },
  {
   "cell_type": "markdown",
   "id": "5bc25252-0c48-4813-bf84-456151693c5f",
   "metadata": {},
   "source": [
    "The model `ridge_0.40.pkl` is the best performing model. \n",
    "\n",
    "Now register that model with the workspace. Then find that model in the portal within **Models**."
   ]
  },
  {
   "cell_type": "code",
   "execution_count": 20,
   "id": "ef80e3ac-71b9-4a30-a9a6-73aa230e8dbd",
   "metadata": {},
   "outputs": [
    {
     "name": "stdout",
     "output_type": "stream",
     "text": [
      "Registered model:\n",
      "\n",
      "--> Name: best_ridge_model\n",
      "--> Version: 1\n",
      "--> URL: aml://asset/ee1ca5983af84ced86bc6e4291a8b13a\n"
     ]
    }
   ],
   "source": [
    "model = run.register_model(model_name='best_ridge_model', model_path='./outputs/ridge_0.40.pkl')\n",
    "\n",
    "print(\"Registered model:\\n\\n--> Name: {}\\n--> Version: {}\\n--> URL: {}\".format(model.name, model.version, model.url))"
   ]
  },
  {
   "cell_type": "markdown",
   "id": "fffdebb1-6374-494b-904a-fe520eba05bf",
   "metadata": {},
   "source": [
    "Now **download** model to local computer:"
   ]
  },
  {
   "cell_type": "code",
   "execution_count": 21,
   "id": "b58c4fe1-6cf1-4ede-8cea-bd23a9a7afd9",
   "metadata": {},
   "outputs": [],
   "source": [
    "import os\n",
    "os.makedirs('./model', exist_ok=True)\n",
    "\n",
    "run.download_file(name='./outputs/ridge_0.40.pkl', output_file_path='./model/model.pkl')"
   ]
  },
  {
   "cell_type": "code",
   "execution_count": null,
   "id": "5f15f323-982b-462a-b244-2fbdda691d17",
   "metadata": {},
   "outputs": [],
   "source": []
  }
 ],
 "metadata": {
  "kernelspec": {
   "display_name": "Python 3 (ipykernel)",
   "language": "python",
   "name": "python3"
  },
  "language_info": {
   "codemirror_mode": {
    "name": "ipython",
    "version": 3
   },
   "file_extension": ".py",
   "mimetype": "text/x-python",
   "name": "python",
   "nbconvert_exporter": "python",
   "pygments_lexer": "ipython3",
   "version": "3.9.7"
  }
 },
 "nbformat": 4,
 "nbformat_minor": 5
}
